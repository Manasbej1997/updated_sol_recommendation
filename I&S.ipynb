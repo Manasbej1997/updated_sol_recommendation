{
 "cells": [
  {
   "cell_type": "code",
   "execution_count": null,
   "metadata": {},
   "outputs": [],
   "source": []
  },
  {
   "cell_type": "code",
   "execution_count": null,
   "metadata": {},
   "outputs": [],
   "source": [
    "#https://github.com/rajtilakls2510/car_price_predictor/blob/master/quikr_car.csv"
   ]
  },
  {
   "cell_type": "code",
   "execution_count": 1,
   "metadata": {},
   "outputs": [],
   "source": [
    "# import required library\n",
    "import numpy as np\n",
    "import pandas as pd\n",
    "import matplotlib.pyplot as plt\n",
    "import seaborn as sns\n",
    "\n",
    "# for intractivity\n",
    "from ipywidgets import interact"
   ]
  },
  {
   "cell_type": "code",
   "execution_count": 2,
   "metadata": {},
   "outputs": [
    {
     "data": {
      "text/html": [
       "<div>\n",
       "<style scoped>\n",
       "    .dataframe tbody tr th:only-of-type {\n",
       "        vertical-align: middle;\n",
       "    }\n",
       "\n",
       "    .dataframe tbody tr th {\n",
       "        vertical-align: top;\n",
       "    }\n",
       "\n",
       "    .dataframe thead th {\n",
       "        text-align: right;\n",
       "    }\n",
       "</style>\n",
       "<table border=\"1\" class=\"dataframe\">\n",
       "  <thead>\n",
       "    <tr style=\"text-align: right;\">\n",
       "      <th></th>\n",
       "      <th>Product</th>\n",
       "      <th>Business object</th>\n",
       "      <th>Issue</th>\n",
       "      <th>Solution</th>\n",
       "    </tr>\n",
       "  </thead>\n",
       "  <tbody>\n",
       "    <tr>\n",
       "      <th>0</th>\n",
       "      <td>C4C</td>\n",
       "      <td>Sales quote</td>\n",
       "      <td>submit disabled</td>\n",
       "      <td>2629811 - Action Submit is Disabled For Sales ...</td>\n",
       "    </tr>\n",
       "    <tr>\n",
       "      <th>1</th>\n",
       "      <td>C4C</td>\n",
       "      <td>Sales quote</td>\n",
       "      <td>price</td>\n",
       "      <td>2940435 - Product Price Missing From Sales Quote</td>\n",
       "    </tr>\n",
       "    <tr>\n",
       "      <th>2</th>\n",
       "      <td>C4C</td>\n",
       "      <td>Sales quote</td>\n",
       "      <td>copy</td>\n",
       "      <td>3076907 - Can't Copy CPQ Quotes</td>\n",
       "    </tr>\n",
       "    <tr>\n",
       "      <th>3</th>\n",
       "      <td>C5C</td>\n",
       "      <td>Sales Order</td>\n",
       "      <td>offline</td>\n",
       "      <td>3096406 - Sales Order is Not Editable in Offli...</td>\n",
       "    </tr>\n",
       "    <tr>\n",
       "      <th>4</th>\n",
       "      <td>C5C</td>\n",
       "      <td>Sales Order</td>\n",
       "      <td>pricing</td>\n",
       "      <td>2665647 - Pricing Component Field In Sales Order</td>\n",
       "    </tr>\n",
       "  </tbody>\n",
       "</table>\n",
       "</div>"
      ],
      "text/plain": [
       "  Product Business object            Issue  \\\n",
       "0     C4C     Sales quote  submit disabled   \n",
       "1     C4C     Sales quote            price   \n",
       "2     C4C     Sales quote             copy   \n",
       "3     C5C     Sales Order          offline   \n",
       "4     C5C     Sales Order          pricing   \n",
       "\n",
       "                                           Solution   \n",
       "0  2629811 - Action Submit is Disabled For Sales ...  \n",
       "1  2940435 - Product Price Missing From Sales Quote   \n",
       "2                    3076907 - Can't Copy CPQ Quotes  \n",
       "3  3096406 - Sales Order is Not Editable in Offli...  \n",
       "4   2665647 - Pricing Component Field In Sales Order  "
      ]
     },
     "execution_count": 2,
     "metadata": {},
     "output_type": "execute_result"
    }
   ],
   "source": [
    "# loading dataset\n",
    "df = pd.read_excel('incident2.xlsx')\n",
    "df"
   ]
  },
  {
   "cell_type": "code",
   "execution_count": 3,
   "metadata": {},
   "outputs": [],
   "source": [
    "df['Business object'].replace('Sales quote','SQ',inplace=True)"
   ]
  },
  {
   "cell_type": "code",
   "execution_count": 4,
   "metadata": {},
   "outputs": [],
   "source": [
    "df['Business object'].replace('Sales Order','SO',inplace=True)"
   ]
  },
  {
   "cell_type": "code",
   "execution_count": 5,
   "metadata": {},
   "outputs": [],
   "source": [
    "df['Issue'].replace('submit disabled','sd',inplace=True)"
   ]
  },
  {
   "cell_type": "code",
   "execution_count": null,
   "metadata": {},
   "outputs": [],
   "source": []
  },
  {
   "cell_type": "code",
   "execution_count": 6,
   "metadata": {},
   "outputs": [
    {
     "data": {
      "text/html": [
       "<div>\n",
       "<style scoped>\n",
       "    .dataframe tbody tr th:only-of-type {\n",
       "        vertical-align: middle;\n",
       "    }\n",
       "\n",
       "    .dataframe tbody tr th {\n",
       "        vertical-align: top;\n",
       "    }\n",
       "\n",
       "    .dataframe thead th {\n",
       "        text-align: right;\n",
       "    }\n",
       "</style>\n",
       "<table border=\"1\" class=\"dataframe\">\n",
       "  <thead>\n",
       "    <tr style=\"text-align: right;\">\n",
       "      <th></th>\n",
       "      <th>Product</th>\n",
       "      <th>Business object</th>\n",
       "      <th>Issue</th>\n",
       "      <th>Solution</th>\n",
       "    </tr>\n",
       "  </thead>\n",
       "  <tbody>\n",
       "    <tr>\n",
       "      <th>0</th>\n",
       "      <td>C4C</td>\n",
       "      <td>SQ</td>\n",
       "      <td>sd</td>\n",
       "      <td>2629811 - Action Submit is Disabled For Sales ...</td>\n",
       "    </tr>\n",
       "    <tr>\n",
       "      <th>1</th>\n",
       "      <td>C4C</td>\n",
       "      <td>SQ</td>\n",
       "      <td>price</td>\n",
       "      <td>2940435 - Product Price Missing From Sales Quote</td>\n",
       "    </tr>\n",
       "    <tr>\n",
       "      <th>2</th>\n",
       "      <td>C4C</td>\n",
       "      <td>SQ</td>\n",
       "      <td>copy</td>\n",
       "      <td>3076907 - Can't Copy CPQ Quotes</td>\n",
       "    </tr>\n",
       "    <tr>\n",
       "      <th>3</th>\n",
       "      <td>C5C</td>\n",
       "      <td>SO</td>\n",
       "      <td>offline</td>\n",
       "      <td>3096406 - Sales Order is Not Editable in Offli...</td>\n",
       "    </tr>\n",
       "    <tr>\n",
       "      <th>4</th>\n",
       "      <td>C5C</td>\n",
       "      <td>SO</td>\n",
       "      <td>pricing</td>\n",
       "      <td>2665647 - Pricing Component Field In Sales Order</td>\n",
       "    </tr>\n",
       "  </tbody>\n",
       "</table>\n",
       "</div>"
      ],
      "text/plain": [
       "  Product Business object    Issue  \\\n",
       "0     C4C              SQ       sd   \n",
       "1     C4C              SQ    price   \n",
       "2     C4C              SQ     copy   \n",
       "3     C5C              SO  offline   \n",
       "4     C5C              SO  pricing   \n",
       "\n",
       "                                           Solution   \n",
       "0  2629811 - Action Submit is Disabled For Sales ...  \n",
       "1  2940435 - Product Price Missing From Sales Quote   \n",
       "2                    3076907 - Can't Copy CPQ Quotes  \n",
       "3  3096406 - Sales Order is Not Editable in Offli...  \n",
       "4   2665647 - Pricing Component Field In Sales Order  "
      ]
     },
     "execution_count": 6,
     "metadata": {},
     "output_type": "execute_result"
    }
   ],
   "source": [
    "df"
   ]
  },
  {
   "cell_type": "code",
   "execution_count": 7,
   "metadata": {},
   "outputs": [
    {
     "data": {
      "text/plain": [
       "0    2629811 - Action Submit is Disabled For Sales ...\n",
       "1    2940435 - Product Price Missing From Sales Quote \n",
       "2                      3076907 - Can't Copy CPQ Quotes\n",
       "3    3096406 - Sales Order is Not Editable in Offli...\n",
       "4     2665647 - Pricing Component Field In Sales Order\n",
       "Name: Solution , dtype: object"
      ]
     },
     "execution_count": 7,
     "metadata": {},
     "output_type": "execute_result"
    }
   ],
   "source": [
    "df['Solution ']"
   ]
  },
  {
   "cell_type": "code",
   "execution_count": 8,
   "metadata": {},
   "outputs": [],
   "source": [
    "from sklearn import preprocessing\n",
    "lb = preprocessing.LabelEncoder()\n",
    "df['Product']= lb.fit_transform(df['Product'])\n",
    "df['Business object'] = lb.fit_transform(df['Business object'])\n",
    "df['Issue'] = lb.fit_transform(df['Issue'])"
   ]
  },
  {
   "cell_type": "code",
   "execution_count": 9,
   "metadata": {},
   "outputs": [
    {
     "name": "stdout",
     "output_type": "stream",
     "text": [
      "(5, 3)\n"
     ]
    }
   ],
   "source": [
    "from sklearn.cluster import KMeans\n",
    "\n",
    "# removing the label\n",
    "x = df.drop(['Solution '],axis=1)\n",
    "\n",
    "x = x.values\n",
    "\n",
    "print(x.shape)"
   ]
  },
  {
   "cell_type": "code",
   "execution_count": 10,
   "metadata": {},
   "outputs": [
    {
     "name": "stderr",
     "output_type": "stream",
     "text": [
      "C:\\Users\\Hp\\anaconda3\\lib\\site-packages\\sklearn\\cluster\\_kmeans.py:1036: UserWarning: KMeans is known to have a memory leak on Windows with MKL, when there are less chunks than available threads. You can avoid it by setting the environment variable OMP_NUM_THREADS=1.\n",
      "  warnings.warn(\n"
     ]
    },
    {
     "data": {
      "image/png": "[encoded data removed]",
      "text/plain": [
       "<Figure size 720x288 with 1 Axes>"
      ]
     },
     "metadata": {
      "needs_background": "light"
     },
     "output_type": "display_data"
    }
   ],
   "source": [
    "plt.rcParams['figure.figsize']=(10,4)\n",
    "wcss = []\n",
    "for i in range(1,5):\n",
    "    km = KMeans(n_clusters=i,init='k-means++',max_iter=10,n_init=5,random_state=0)\n",
    "    km.fit(x)\n",
    "    wcss.append(km.inertia_)\n",
    "\n",
    "# lets plot\n",
    "plt.plot(range(1,5),wcss)\n",
    "plt.title('The Elbow Method',fontsize=20)\n",
    "plt.xlabel('No of cluster')\n",
    "plt.ylabel('wcss')\n",
    "plt.show()"
   ]
  },
  {
   "cell_type": "code",
   "execution_count": 11,
   "metadata": {},
   "outputs": [
    {
     "name": "stdout",
     "output_type": "stream",
     "text": [
      "Lets check the Result after applying the K means \n",
      " \n",
      "Solution in the First Cluster ['2629811 - Action Submit is Disabled For Sales Quote'\n",
      " '2940435 - Product Price Missing From Sales Quote '\n",
      " '2665647 - Pricing Component Field In Sales Order']\n",
      "Solution in the First Cluster [\"3076907 - Can't Copy CPQ Quotes\"\n",
      " '3096406 - Sales Order is Not Editable in Offline Mode']\n"
     ]
    }
   ],
   "source": [
    "# lets implement the K means algo\n",
    "km = KMeans(n_clusters=2,init='k-means++',max_iter=10,n_init=5,random_state=0)\n",
    "y_means = km.fit_predict(x)\n",
    "\n",
    "# lets find out the results\n",
    "a = df['Solution ']\n",
    "y_means = pd.DataFrame(y_means)\n",
    "z = pd.concat([y_means,a],axis=1)\n",
    "z = z.rename(columns={0:'cluster'})\n",
    "\n",
    "# lets check the clusters of each solution\n",
    "print(\"Lets check the Result after applying the K means \\n \")\n",
    "print(\"Solution in the First Cluster\",z[z['cluster']==0]['Solution '].unique())\n",
    "print(\"Solution in the First Cluster\",z[z['cluster']==1]['Solution '].unique())"
   ]
  },
  {
   "cell_type": "code",
   "execution_count": 12,
   "metadata": {},
   "outputs": [
    {
     "name": "stdout",
     "output_type": "stream",
     "text": [
      "Shape of x: (5, 3)\n",
      "Shape of y: (5,)\n"
     ]
    }
   ],
   "source": [
    "# let split the Dataset for predictive model\n",
    "y = df['Solution ']\n",
    "x = df.drop(['Solution '],axis=1)\n",
    "\n",
    "print(\"Shape of x:\",x.shape)\n",
    "print(\"Shape of y:\",y.shape)"
   ]
  },
  {
   "cell_type": "code",
   "execution_count": null,
   "metadata": {},
   "outputs": [],
   "source": []
  },
  {
   "cell_type": "code",
   "execution_count": 13,
   "metadata": {},
   "outputs": [
    {
     "name": "stdout",
     "output_type": "stream",
     "text": [
      "The shape of x_train: (4, 3)\n",
      "The shape of x_test: (1, 3)\n",
      "The shape of y_train: (4,)\n",
      "The shape of y_test: (1,)\n"
     ]
    }
   ],
   "source": [
    "# lets create Training and Testing sets for validation of results\n",
    "from sklearn.model_selection import train_test_split\n",
    "x_train,x_test,y_train,y_test = train_test_split(x,y,test_size=0.2,random_state=0)\n",
    "\n",
    "\n",
    "print(\"The shape of x_train:\",x_train.shape)\n",
    "print(\"The shape of x_test:\",x_test.shape)\n",
    "print(\"The shape of y_train:\",y_train.shape)\n",
    "print(\"The shape of y_test:\",y_test.shape)"
   ]
  },
  {
   "cell_type": "code",
   "execution_count": 14,
   "metadata": {},
   "outputs": [],
   "source": [
    "# lets create a predictive model\n",
    "from sklearn.ensemble import RandomForestClassifier\n",
    "\n",
    "model = RandomForestClassifier(n_estimators=3,max_depth=100)\n",
    "model.fit(x_train,y_train)\n",
    "y_pred = model.predict(x_test)"
   ]
  },
  {
   "cell_type": "code",
   "execution_count": 15,
   "metadata": {},
   "outputs": [
    {
     "data": {
      "image/png": "[encoded data removed]",
      "text/plain": [
       "<Figure size 720x720 with 2 Axes>"
      ]
     },
     "metadata": {
      "needs_background": "light"
     },
     "output_type": "display_data"
    }
   ],
   "source": [
    "# lets evaluate the model performance\n",
    "from sklearn.metrics import confusion_matrix,classification_report,accuracy_score\n",
    "\n",
    "# lets print the confusion matrix \n",
    "plt.rcParams['figure.figsize']=(10,10)\n",
    "cm = confusion_matrix(y_test,y_pred)\n",
    "sns.heatmap(cm,annot=True, cmap='Wistia')\n",
    "plt.title(\"Confusion Matrix for Logistic Regression\",fontsize=12)\n",
    "plt.show()"
   ]
  },
  {
   "cell_type": "code",
   "execution_count": null,
   "metadata": {},
   "outputs": [],
   "source": []
  },
  {
   "cell_type": "code",
   "execution_count": 17,
   "metadata": {},
   "outputs": [
    {
     "name": "stdout",
     "output_type": "stream",
     "text": [
      "                                                   precision    recall  f1-score   support\n",
      "\n",
      "2940435 - Product Price Missing From Sales Quote        0.00      0.00      0.00       0.0\n",
      "                  3076907 - Can't Copy CPQ Quotes       0.00      0.00      0.00       1.0\n",
      "\n",
      "                                         accuracy                           0.00       1.0\n",
      "                                        macro avg       0.00      0.00      0.00       1.0\n",
      "                                     weighted avg       0.00      0.00      0.00       1.0\n",
      "\n"
     ]
    },
    {
     "name": "stderr",
     "output_type": "stream",
     "text": [
      "C:\\Users\\Hp\\anaconda3\\lib\\site-packages\\sklearn\\metrics\\_classification.py:1318: UndefinedMetricWarning: Precision and F-score are ill-defined and being set to 0.0 in labels with no predicted samples. Use `zero_division` parameter to control this behavior.\n",
      "  _warn_prf(average, modifier, msg_start, len(result))\n",
      "C:\\Users\\Hp\\anaconda3\\lib\\site-packages\\sklearn\\metrics\\_classification.py:1318: UndefinedMetricWarning: Recall and F-score are ill-defined and being set to 0.0 in labels with no true samples. Use `zero_division` parameter to control this behavior.\n",
      "  _warn_prf(average, modifier, msg_start, len(result))\n",
      "C:\\Users\\Hp\\anaconda3\\lib\\site-packages\\sklearn\\metrics\\_classification.py:1318: UndefinedMetricWarning: Precision and F-score are ill-defined and being set to 0.0 in labels with no predicted samples. Use `zero_division` parameter to control this behavior.\n",
      "  _warn_prf(average, modifier, msg_start, len(result))\n",
      "C:\\Users\\Hp\\anaconda3\\lib\\site-packages\\sklearn\\metrics\\_classification.py:1318: UndefinedMetricWarning: Recall and F-score are ill-defined and being set to 0.0 in labels with no true samples. Use `zero_division` parameter to control this behavior.\n",
      "  _warn_prf(average, modifier, msg_start, len(result))\n",
      "C:\\Users\\Hp\\anaconda3\\lib\\site-packages\\sklearn\\metrics\\_classification.py:1318: UndefinedMetricWarning: Precision and F-score are ill-defined and being set to 0.0 in labels with no predicted samples. Use `zero_division` parameter to control this behavior.\n",
      "  _warn_prf(average, modifier, msg_start, len(result))\n",
      "C:\\Users\\Hp\\anaconda3\\lib\\site-packages\\sklearn\\metrics\\_classification.py:1318: UndefinedMetricWarning: Recall and F-score are ill-defined and being set to 0.0 in labels with no true samples. Use `zero_division` parameter to control this behavior.\n",
      "  _warn_prf(average, modifier, msg_start, len(result))\n"
     ]
    }
   ],
   "source": [
    "cr = classification_report(y_test,y_pred)\n",
    "print(cr)"
   ]
  },
  {
   "cell_type": "code",
   "execution_count": 18,
   "metadata": {},
   "outputs": [
    {
     "data": {
      "text/html": [
       "<div>\n",
       "<style scoped>\n",
       "    .dataframe tbody tr th:only-of-type {\n",
       "        vertical-align: middle;\n",
       "    }\n",
       "\n",
       "    .dataframe tbody tr th {\n",
       "        vertical-align: top;\n",
       "    }\n",
       "\n",
       "    .dataframe thead th {\n",
       "        text-align: right;\n",
       "    }\n",
       "</style>\n",
       "<table border=\"1\" class=\"dataframe\">\n",
       "  <thead>\n",
       "    <tr style=\"text-align: right;\">\n",
       "      <th></th>\n",
       "      <th>Product</th>\n",
       "      <th>Business object</th>\n",
       "      <th>Issue</th>\n",
       "      <th>Solution</th>\n",
       "    </tr>\n",
       "  </thead>\n",
       "  <tbody>\n",
       "    <tr>\n",
       "      <th>0</th>\n",
       "      <td>0</td>\n",
       "      <td>1</td>\n",
       "      <td>4</td>\n",
       "      <td>2629811 - Action Submit is Disabled For Sales ...</td>\n",
       "    </tr>\n",
       "    <tr>\n",
       "      <th>1</th>\n",
       "      <td>0</td>\n",
       "      <td>1</td>\n",
       "      <td>2</td>\n",
       "      <td>2940435 - Product Price Missing From Sales Quote</td>\n",
       "    </tr>\n",
       "    <tr>\n",
       "      <th>2</th>\n",
       "      <td>0</td>\n",
       "      <td>1</td>\n",
       "      <td>0</td>\n",
       "      <td>3076907 - Can't Copy CPQ Quotes</td>\n",
       "    </tr>\n",
       "    <tr>\n",
       "      <th>3</th>\n",
       "      <td>1</td>\n",
       "      <td>0</td>\n",
       "      <td>1</td>\n",
       "      <td>3096406 - Sales Order is Not Editable in Offli...</td>\n",
       "    </tr>\n",
       "    <tr>\n",
       "      <th>4</th>\n",
       "      <td>1</td>\n",
       "      <td>0</td>\n",
       "      <td>3</td>\n",
       "      <td>2665647 - Pricing Component Field In Sales Order</td>\n",
       "    </tr>\n",
       "  </tbody>\n",
       "</table>\n",
       "</div>"
      ],
      "text/plain": [
       "   Product  Business object  Issue  \\\n",
       "0        0                1      4   \n",
       "1        0                1      2   \n",
       "2        0                1      0   \n",
       "3        1                0      1   \n",
       "4        1                0      3   \n",
       "\n",
       "                                           Solution   \n",
       "0  2629811 - Action Submit is Disabled For Sales ...  \n",
       "1  2940435 - Product Price Missing From Sales Quote   \n",
       "2                    3076907 - Can't Copy CPQ Quotes  \n",
       "3  3096406 - Sales Order is Not Editable in Offli...  \n",
       "4   2665647 - Pricing Component Field In Sales Order  "
      ]
     },
     "execution_count": 18,
     "metadata": {},
     "output_type": "execute_result"
    }
   ],
   "source": [
    "df.head()"
   ]
  },
  {
   "cell_type": "code",
   "execution_count": 21,
   "metadata": {},
   "outputs": [
    {
     "name": "stdout",
     "output_type": "stream",
     "text": [
      "Solution is: ['3096406 - Sales Order is Not Editable in Offline Mode']\n"
     ]
    },
    {
     "name": "stderr",
     "output_type": "stream",
     "text": [
      "C:\\Users\\Hp\\anaconda3\\lib\\site-packages\\sklearn\\base.py:450: UserWarning: X does not have valid feature names, but RandomForestClassifier was fitted with feature names\n",
      "  warnings.warn(\n"
     ]
    }
   ],
   "source": [
    "get_sol = model.predict(np.array([[1,\n",
    "                                 1,\n",
    "                                 0]]))\n",
    "print(\"Solution is:\",get_sol)"
   ]
  },
  {
   "cell_type": "code",
   "execution_count": null,
   "metadata": {},
   "outputs": [],
   "source": []
  },
  {
   "cell_type": "code",
   "execution_count": null,
   "metadata": {},
   "outputs": [],
   "source": []
  },
  {
   "cell_type": "code",
   "execution_count": 13,
   "metadata": {},
   "outputs": [
    {
     "data": {
      "text/html": [
       "<div>\n",
       "<style scoped>\n",
       "    .dataframe tbody tr th:only-of-type {\n",
       "        vertical-align: middle;\n",
       "    }\n",
       "\n",
       "    .dataframe tbody tr th {\n",
       "        vertical-align: top;\n",
       "    }\n",
       "\n",
       "    .dataframe thead th {\n",
       "        text-align: right;\n",
       "    }\n",
       "</style>\n",
       "<table border=\"1\" class=\"dataframe\">\n",
       "  <thead>\n",
       "    <tr style=\"text-align: right;\">\n",
       "      <th></th>\n",
       "      <th>Product</th>\n",
       "      <th>Business object</th>\n",
       "      <th>Issue</th>\n",
       "      <th>Solution</th>\n",
       "    </tr>\n",
       "  </thead>\n",
       "  <tbody>\n",
       "    <tr>\n",
       "      <th>0</th>\n",
       "      <td>C4C</td>\n",
       "      <td>Sales quote</td>\n",
       "      <td>submit disabled</td>\n",
       "      <td>2629811 - Action Submit is Disabled For Sales ...</td>\n",
       "    </tr>\n",
       "    <tr>\n",
       "      <th>1</th>\n",
       "      <td>C4C</td>\n",
       "      <td>Sales quote</td>\n",
       "      <td>price</td>\n",
       "      <td>2940435 - Product Price Missing From Sales Quote</td>\n",
       "    </tr>\n",
       "    <tr>\n",
       "      <th>2</th>\n",
       "      <td>C4C</td>\n",
       "      <td>Sales quote</td>\n",
       "      <td>copy</td>\n",
       "      <td>3076907 - Can't Copy CPQ Quotes</td>\n",
       "    </tr>\n",
       "    <tr>\n",
       "      <th>3</th>\n",
       "      <td>C4C</td>\n",
       "      <td>Sales quote</td>\n",
       "      <td>external indicator</td>\n",
       "      <td>2611062 - How Extern Indicator Works in Sales ...</td>\n",
       "    </tr>\n",
       "    <tr>\n",
       "      <th>4</th>\n",
       "      <td>C4C</td>\n",
       "      <td>Sales quote</td>\n",
       "      <td>Scoping</td>\n",
       "      <td>2758035 - Scoping Questions - Sales Quotes</td>\n",
       "    </tr>\n",
       "  </tbody>\n",
       "</table>\n",
       "</div>"
      ],
      "text/plain": [
       "  Product Business object               Issue  \\\n",
       "0     C4C     Sales quote     submit disabled   \n",
       "1     C4C     Sales quote               price   \n",
       "2     C4C     Sales quote                copy   \n",
       "3     C4C     Sales quote  external indicator   \n",
       "4     C4C     Sales quote            Scoping    \n",
       "\n",
       "                                           Solution   \n",
       "0  2629811 - Action Submit is Disabled For Sales ...  \n",
       "1  2940435 - Product Price Missing From Sales Quote   \n",
       "2                    3076907 - Can't Copy CPQ Quotes  \n",
       "3  2611062 - How Extern Indicator Works in Sales ...  \n",
       "4         2758035 - Scoping Questions - Sales Quotes  "
      ]
     },
     "execution_count": 13,
     "metadata": {},
     "output_type": "execute_result"
    }
   ],
   "source": [
    "df = pd.read_excel('incidents.xlsx')\n",
    "df.head()"
   ]
  },
  {
   "cell_type": "code",
   "execution_count": 16,
   "metadata": {},
   "outputs": [
    {
     "data": {
      "text/plain": [
       "array(['SalesQuote', 'SalesOrder', 'Opportunity', 'tickets',\n",
       "       'EmailChannel'], dtype=object)"
      ]
     },
     "execution_count": 16,
     "metadata": {},
     "output_type": "execute_result"
    }
   ],
   "source": [
    "df['Business object'].unique()"
   ]
  },
  {
   "cell_type": "code",
   "execution_count": 15,
   "metadata": {},
   "outputs": [],
   "source": [
    "df['Business object'].replace('Sales quote','SalesQuote',inplace=True)\n",
    "df['Business object'].replace('Sales Order','SalesOrder',inplace=True)\n",
    "df['Business object'].replace('Email channel','EmailChannel',inplace=True)"
   ]
  },
  {
   "cell_type": "code",
   "execution_count": 18,
   "metadata": {},
   "outputs": [
    {
     "data": {
      "text/plain": [
       "array(['C4C'], dtype=object)"
      ]
     },
     "execution_count": 18,
     "metadata": {},
     "output_type": "execute_result"
    }
   ],
   "source": [
    "df['Product'].unique()"
   ]
  },
  {
   "cell_type": "code",
   "execution_count": 17,
   "metadata": {},
   "outputs": [],
   "source": [
    "df['Product'].replace('C4C ','C4C',inplace=True)"
   ]
  },
  {
   "cell_type": "code",
   "execution_count": 8,
   "metadata": {},
   "outputs": [
    {
     "data": {
      "text/plain": [
       "array(['submit disabled', 'price', 'copy', 'external indicator',\n",
       "       'Scoping ', 'Preview external quote', 'BTD Reference',\n",
       "       'New button grayed out', 'status completed', 'Reapproval ',\n",
       "       'Inbound replication', 'Replication status reset', 'delete quote',\n",
       "       'XML Payload', 'Pricing facet', 'Delete CPQ', 'offline', 'pricing',\n",
       "       'Replication S4', 'Item party replication', 'AFS Integration',\n",
       "       'Partner address ', 'Request date', 'Approval status',\n",
       "       'Delivery priority', 'edit sales order', 'maintainance mode',\n",
       "       'offline determination', 'delivery block', 'custom status',\n",
       "       'Open opportunity from account', 'sales phase', 'replication',\n",
       "       'trend analytics', 'import status', 'ATP check', 'delete ticket',\n",
       "       'attachments Odata', 'reply on ticket', 'outbound message',\n",
       "       'non-active employees', 'attachment replication', 'email bounce',\n",
       "       'email address sync', 'outbound size ', 'create ticket',\n",
       "       'debug email', 'incoming email', 'codelist restriction'],\n",
       "      dtype=object)"
      ]
     },
     "execution_count": 8,
     "metadata": {},
     "output_type": "execute_result"
    }
   ],
   "source": [
    "df['Issue'].unique()"
   ]
  },
  {
   "cell_type": "code",
   "execution_count": 19,
   "metadata": {},
   "outputs": [
    {
     "data": {
      "text/html": [
       "<div>\n",
       "<style scoped>\n",
       "    .dataframe tbody tr th:only-of-type {\n",
       "        vertical-align: middle;\n",
       "    }\n",
       "\n",
       "    .dataframe tbody tr th {\n",
       "        vertical-align: top;\n",
       "    }\n",
       "\n",
       "    .dataframe thead th {\n",
       "        text-align: right;\n",
       "    }\n",
       "</style>\n",
       "<table border=\"1\" class=\"dataframe\">\n",
       "  <thead>\n",
       "    <tr style=\"text-align: right;\">\n",
       "      <th></th>\n",
       "      <th>Product</th>\n",
       "      <th>Business object</th>\n",
       "      <th>Issue</th>\n",
       "      <th>Solution</th>\n",
       "    </tr>\n",
       "  </thead>\n",
       "  <tbody>\n",
       "    <tr>\n",
       "      <th>0</th>\n",
       "      <td>C4C</td>\n",
       "      <td>SalesQuote</td>\n",
       "      <td>submit disabled</td>\n",
       "      <td>2629811 - Action Submit is Disabled For Sales ...</td>\n",
       "    </tr>\n",
       "    <tr>\n",
       "      <th>1</th>\n",
       "      <td>C4C</td>\n",
       "      <td>SalesQuote</td>\n",
       "      <td>price</td>\n",
       "      <td>2940435 - Product Price Missing From Sales Quote</td>\n",
       "    </tr>\n",
       "    <tr>\n",
       "      <th>2</th>\n",
       "      <td>C4C</td>\n",
       "      <td>SalesQuote</td>\n",
       "      <td>copy</td>\n",
       "      <td>3076907 - Can't Copy CPQ Quotes</td>\n",
       "    </tr>\n",
       "    <tr>\n",
       "      <th>3</th>\n",
       "      <td>C4C</td>\n",
       "      <td>SalesQuote</td>\n",
       "      <td>external indicator</td>\n",
       "      <td>2611062 - How Extern Indicator Works in Sales ...</td>\n",
       "    </tr>\n",
       "    <tr>\n",
       "      <th>4</th>\n",
       "      <td>C4C</td>\n",
       "      <td>SalesQuote</td>\n",
       "      <td>Scoping</td>\n",
       "      <td>2758035 - Scoping Questions - Sales Quotes</td>\n",
       "    </tr>\n",
       "  </tbody>\n",
       "</table>\n",
       "</div>"
      ],
      "text/plain": [
       "  Product Business object               Issue  \\\n",
       "0     C4C      SalesQuote     submit disabled   \n",
       "1     C4C      SalesQuote               price   \n",
       "2     C4C      SalesQuote                copy   \n",
       "3     C4C      SalesQuote  external indicator   \n",
       "4     C4C      SalesQuote            Scoping    \n",
       "\n",
       "                                           Solution   \n",
       "0  2629811 - Action Submit is Disabled For Sales ...  \n",
       "1  2940435 - Product Price Missing From Sales Quote   \n",
       "2                    3076907 - Can't Copy CPQ Quotes  \n",
       "3  2611062 - How Extern Indicator Works in Sales ...  \n",
       "4         2758035 - Scoping Questions - Sales Quotes  "
      ]
     },
     "execution_count": 19,
     "metadata": {},
     "output_type": "execute_result"
    }
   ],
   "source": [
    "df.head()"
   ]
  },
  {
   "cell_type": "code",
   "execution_count": 20,
   "metadata": {},
   "outputs": [],
   "source": [
    "df.to_csv('incident.csv')"
   ]
  },
  {
   "cell_type": "code",
   "execution_count": null,
   "metadata": {},
   "outputs": [],
   "source": []
  }
 ],
 "metadata": {
  "kernelspec": {
   "display_name": "Python 3",
   "language": "python",
   "name": "python3"
  },
  "language_info": {
   "codemirror_mode": {
    "name": "ipython",
    "version": 3
   },
   "file_extension": ".py",
   "mimetype": "text/x-python",
   "name": "python",
   "nbconvert_exporter": "python",
   "pygments_lexer": "ipython3",
   "version": "3.8.3"
  }
 },
 "nbformat": 4,
 "nbformat_minor": 4
}
